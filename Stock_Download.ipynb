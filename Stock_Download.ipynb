{
 "cells": [
  {
   "cell_type": "code",
   "execution_count": 1,
   "id": "5d4f7401-222b-4e18-8fae-2217b4b2f98c",
   "metadata": {},
   "outputs": [],
   "source": [
    "import pandas as pd \n",
    "import matplotlib as plt\n",
    "import numpy as np \n",
    "import yfinance as yf\n",
    "import math\n",
    "import datetime\n",
    "import os"
   ]
  },
  {
   "cell_type": "code",
   "execution_count": 2,
   "id": "851ffe4a-a130-4328-b742-869136533260",
   "metadata": {},
   "outputs": [
    {
     "name": "stderr",
     "output_type": "stream",
     "text": [
      "[*********************100%***********************]  1 of 1 completed"
     ]
    },
    {
     "name": "stdout",
     "output_type": "stream",
     "text": [
      "         Date       Open       High        Low      Close  Adj Close  Volume\n",
      "0  2023-01-03  41.889999  42.209999  41.369999  41.939999  40.153084  293900\n",
      "1  2023-01-04  42.099998  42.869999  41.860001  42.770000  40.947727  485700\n",
      "2  2023-01-05  42.439999  42.650002  41.419998  41.840000  40.057350  524400\n",
      "3  2023-01-06  42.340000  43.000000  42.299999  42.639999  40.823261  339600\n",
      "4  2023-01-09  42.599998  42.799999  42.349998  42.450001  40.641354  415800\n"
     ]
    },
    {
     "name": "stderr",
     "output_type": "stream",
     "text": [
      "\n"
     ]
    }
   ],
   "source": [
    "# Downloading the csv data of Microsoft and Apple\n",
    "# ticker_symbol = \"MSFT\"\n",
    "# ticker_symbol = \"AAPL\"\n",
    "# ticker_symbol = \"GOOGL\"\n",
    "ticker_symbol = \"HE\"\n",
    "\n",
    "\n",
    "stock_data = yf.download(ticker_symbol, start=\"2023-01-01\", end=\"2024-01-01\")\n",
    "desired_directory = \"C:/Users/hriti/Desktop/utility\"  # Replace with your desired directory path\n",
    "file_name = \"Hawaiian Electric.csv\"\n",
    "\n",
    "os.makedirs(desired_directory, exist_ok=True)\n",
    "\n",
    "file_path = os.path.join(desired_directory, file_name)\n",
    "\n",
    "stock_data.to_csv(file_path, index=True)\n",
    "\n",
    "saved_data = pd.read_csv(file_path)\n",
    "print(saved_data.head())"
   ]
  },
  {
   "cell_type": "code",
   "execution_count": 3,
   "id": "66a57a23-4bd0-4df8-93cc-5be7a8045926",
   "metadata": {},
   "outputs": [
    {
     "data": {
      "text/html": [
       "<div>\n",
       "<style scoped>\n",
       "    .dataframe tbody tr th:only-of-type {\n",
       "        vertical-align: middle;\n",
       "    }\n",
       "\n",
       "    .dataframe tbody tr th {\n",
       "        vertical-align: top;\n",
       "    }\n",
       "\n",
       "    .dataframe thead th {\n",
       "        text-align: right;\n",
       "    }\n",
       "</style>\n",
       "<table border=\"1\" class=\"dataframe\">\n",
       "  <thead>\n",
       "    <tr style=\"text-align: right;\">\n",
       "      <th></th>\n",
       "      <th>Date</th>\n",
       "      <th>Open</th>\n",
       "      <th>High</th>\n",
       "      <th>Low</th>\n",
       "      <th>Close</th>\n",
       "      <th>Adj Close</th>\n",
       "      <th>Volume</th>\n",
       "    </tr>\n",
       "  </thead>\n",
       "  <tbody>\n",
       "    <tr>\n",
       "      <th>0</th>\n",
       "      <td>2023-01-03</td>\n",
       "      <td>41.889999</td>\n",
       "      <td>42.209999</td>\n",
       "      <td>41.369999</td>\n",
       "      <td>41.939999</td>\n",
       "      <td>40.153084</td>\n",
       "      <td>293900</td>\n",
       "    </tr>\n",
       "    <tr>\n",
       "      <th>1</th>\n",
       "      <td>2023-01-04</td>\n",
       "      <td>42.099998</td>\n",
       "      <td>42.869999</td>\n",
       "      <td>41.860001</td>\n",
       "      <td>42.770000</td>\n",
       "      <td>40.947727</td>\n",
       "      <td>485700</td>\n",
       "    </tr>\n",
       "    <tr>\n",
       "      <th>2</th>\n",
       "      <td>2023-01-05</td>\n",
       "      <td>42.439999</td>\n",
       "      <td>42.650002</td>\n",
       "      <td>41.419998</td>\n",
       "      <td>41.840000</td>\n",
       "      <td>40.057350</td>\n",
       "      <td>524400</td>\n",
       "    </tr>\n",
       "    <tr>\n",
       "      <th>3</th>\n",
       "      <td>2023-01-06</td>\n",
       "      <td>42.340000</td>\n",
       "      <td>43.000000</td>\n",
       "      <td>42.299999</td>\n",
       "      <td>42.639999</td>\n",
       "      <td>40.823261</td>\n",
       "      <td>339600</td>\n",
       "    </tr>\n",
       "    <tr>\n",
       "      <th>4</th>\n",
       "      <td>2023-01-09</td>\n",
       "      <td>42.599998</td>\n",
       "      <td>42.799999</td>\n",
       "      <td>42.349998</td>\n",
       "      <td>42.450001</td>\n",
       "      <td>40.641354</td>\n",
       "      <td>415800</td>\n",
       "    </tr>\n",
       "    <tr>\n",
       "      <th>...</th>\n",
       "      <td>...</td>\n",
       "      <td>...</td>\n",
       "      <td>...</td>\n",
       "      <td>...</td>\n",
       "      <td>...</td>\n",
       "      <td>...</td>\n",
       "      <td>...</td>\n",
       "    </tr>\n",
       "    <tr>\n",
       "      <th>245</th>\n",
       "      <td>2023-12-22</td>\n",
       "      <td>13.990000</td>\n",
       "      <td>14.170000</td>\n",
       "      <td>13.840000</td>\n",
       "      <td>13.950000</td>\n",
       "      <td>13.950000</td>\n",
       "      <td>1211000</td>\n",
       "    </tr>\n",
       "    <tr>\n",
       "      <th>246</th>\n",
       "      <td>2023-12-26</td>\n",
       "      <td>14.000000</td>\n",
       "      <td>14.130000</td>\n",
       "      <td>13.910000</td>\n",
       "      <td>14.050000</td>\n",
       "      <td>14.050000</td>\n",
       "      <td>1620000</td>\n",
       "    </tr>\n",
       "    <tr>\n",
       "      <th>247</th>\n",
       "      <td>2023-12-27</td>\n",
       "      <td>14.090000</td>\n",
       "      <td>14.550000</td>\n",
       "      <td>13.860000</td>\n",
       "      <td>14.020000</td>\n",
       "      <td>14.020000</td>\n",
       "      <td>3906500</td>\n",
       "    </tr>\n",
       "    <tr>\n",
       "      <th>248</th>\n",
       "      <td>2023-12-28</td>\n",
       "      <td>13.930000</td>\n",
       "      <td>14.380000</td>\n",
       "      <td>13.890000</td>\n",
       "      <td>14.370000</td>\n",
       "      <td>14.370000</td>\n",
       "      <td>2317600</td>\n",
       "    </tr>\n",
       "    <tr>\n",
       "      <th>249</th>\n",
       "      <td>2023-12-29</td>\n",
       "      <td>14.260000</td>\n",
       "      <td>14.300000</td>\n",
       "      <td>14.000000</td>\n",
       "      <td>14.190000</td>\n",
       "      <td>14.190000</td>\n",
       "      <td>1916500</td>\n",
       "    </tr>\n",
       "  </tbody>\n",
       "</table>\n",
       "<p>250 rows × 7 columns</p>\n",
       "</div>"
      ],
      "text/plain": [
       "           Date       Open       High        Low      Close  Adj Close  \\\n",
       "0    2023-01-03  41.889999  42.209999  41.369999  41.939999  40.153084   \n",
       "1    2023-01-04  42.099998  42.869999  41.860001  42.770000  40.947727   \n",
       "2    2023-01-05  42.439999  42.650002  41.419998  41.840000  40.057350   \n",
       "3    2023-01-06  42.340000  43.000000  42.299999  42.639999  40.823261   \n",
       "4    2023-01-09  42.599998  42.799999  42.349998  42.450001  40.641354   \n",
       "..          ...        ...        ...        ...        ...        ...   \n",
       "245  2023-12-22  13.990000  14.170000  13.840000  13.950000  13.950000   \n",
       "246  2023-12-26  14.000000  14.130000  13.910000  14.050000  14.050000   \n",
       "247  2023-12-27  14.090000  14.550000  13.860000  14.020000  14.020000   \n",
       "248  2023-12-28  13.930000  14.380000  13.890000  14.370000  14.370000   \n",
       "249  2023-12-29  14.260000  14.300000  14.000000  14.190000  14.190000   \n",
       "\n",
       "      Volume  \n",
       "0     293900  \n",
       "1     485700  \n",
       "2     524400  \n",
       "3     339600  \n",
       "4     415800  \n",
       "..       ...  \n",
       "245  1211000  \n",
       "246  1620000  \n",
       "247  3906500  \n",
       "248  2317600  \n",
       "249  1916500  \n",
       "\n",
       "[250 rows x 7 columns]"
      ]
     },
     "execution_count": 3,
     "metadata": {},
     "output_type": "execute_result"
    }
   ],
   "source": [
    "df1 = pd.read_csv(\"Hawaiian Electric.csv\")\n",
    "df1"
   ]
  },
  {
   "cell_type": "code",
   "execution_count": 4,
   "id": "aab2ddaf-17ba-45b8-9c46-f97a9ca8854e",
   "metadata": {},
   "outputs": [
    {
     "data": {
      "text/plain": [
       "43.45000076293945"
      ]
     },
     "execution_count": 4,
     "metadata": {},
     "output_type": "execute_result"
    }
   ],
   "source": [
    "df1['Close'].max()"
   ]
  },
  {
   "cell_type": "code",
   "execution_count": 5,
   "id": "6f426c92-e1bf-4e4a-a28c-28f0ca164927",
   "metadata": {},
   "outputs": [
    {
     "data": {
      "text/plain": [
       "9.65999984741211"
      ]
     },
     "execution_count": 5,
     "metadata": {},
     "output_type": "execute_result"
    }
   ],
   "source": [
    "df1['Close'].min()"
   ]
  },
  {
   "cell_type": "code",
   "execution_count": null,
   "id": "aadc9048-8581-4fe2-8960-2343ba8e449d",
   "metadata": {},
   "outputs": [],
   "source": []
  }
 ],
 "metadata": {
  "kernelspec": {
   "display_name": "Python 3 (ipykernel)",
   "language": "python",
   "name": "python3"
  },
  "language_info": {
   "codemirror_mode": {
    "name": "ipython",
    "version": 3
   },
   "file_extension": ".py",
   "mimetype": "text/x-python",
   "name": "python",
   "nbconvert_exporter": "python",
   "pygments_lexer": "ipython3",
   "version": "3.10.11"
  }
 },
 "nbformat": 4,
 "nbformat_minor": 5
}
