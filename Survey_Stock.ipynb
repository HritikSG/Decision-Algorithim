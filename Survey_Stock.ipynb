{
 "cells": [
  {
   "cell_type": "markdown",
   "id": "147b393b-b8bd-4c38-909c-9a70a9fd4f1e",
   "metadata": {},
   "source": [
    "### Import Libraries"
   ]
  },
  {
   "cell_type": "code",
   "execution_count": 1,
   "id": "65b20d19-51ae-4531-89f7-d04b47eaae4b",
   "metadata": {},
   "outputs": [],
   "source": [
    "import pandas as pd\n",
    "import numpy as np\n",
    "from scipy.optimize import curve_fit\n",
    "import matplotlib.pyplot as plt"
   ]
  },
  {
   "cell_type": "markdown",
   "id": "d3f83ab6-341e-4fa9-8b76-4b92a055b912",
   "metadata": {},
   "source": [
    "### Set Stock Names"
   ]
  },
  {
   "cell_type": "code",
   "execution_count": 2,
   "id": "48c5aa8e-b953-49b1-a982-0fe733d28791",
   "metadata": {},
   "outputs": [],
   "source": [
    "stock_name_1 = 'Microsoft' \n",
    "stock_name_2 = 'NovoCurve'"
   ]
  },
  {
   "cell_type": "markdown",
   "id": "3f6c9f1c-fb13-4214-b382-1f96d6270773",
   "metadata": {},
   "source": [
    "### Load data set"
   ]
  },
  {
   "cell_type": "code",
   "execution_count": 3,
   "id": "86960b6e-ce55-4eeb-a15e-948b4b832584",
   "metadata": {},
   "outputs": [],
   "source": [
    "data_stock_1 = pd.read_csv('Microsoft.csv')\n",
    "data_stock_2 = pd.read_csv('NovoCurve.csv')"
   ]
  },
  {
   "cell_type": "markdown",
   "id": "ea3f2a91-21c8-4879-9c3e-10086d329b2b",
   "metadata": {},
   "source": [
    "###  Ensure Date Column is in Datetime Format"
   ]
  },
  {
   "cell_type": "code",
   "execution_count": 4,
   "id": "a34c76ee-36c6-4b93-ae12-80766b8b4f2c",
   "metadata": {},
   "outputs": [],
   "source": [
    "data_stock_1['Date'] = pd.to_datetime(data_stock_1['Date'])\n",
    "data_stock_2['Date'] = pd.to_datetime(data_stock_2['Date'])"
   ]
  },
  {
   "cell_type": "markdown",
   "id": "9ac7ba0a-079f-433a-af6e-6cb40557a0a9",
   "metadata": {},
   "source": [
    "### Calculate Daily Returns"
   ]
  },
  {
   "cell_type": "code",
   "execution_count": 5,
   "id": "e92b614e-d827-44fd-94fe-28a56d116d87",
   "metadata": {},
   "outputs": [],
   "source": [
    "data_stock_1['Return'] = data_stock_1['Adj Close'].pct_change().dropna()\n",
    "data_stock_2['Return'] = data_stock_2['Adj Close'].pct_change().dropna()"
   ]
  },
  {
   "cell_type": "markdown",
   "id": "ffad93af-1b31-424d-b21a-c147f3ebac2b",
   "metadata": {},
   "source": [
    "### Drop rows with NaN values resulting from pct_change calculation"
   ]
  },
  {
   "cell_type": "code",
   "execution_count": 6,
   "id": "d8a8b13d-3e6a-4916-b14a-f08b7ee02e47",
   "metadata": {},
   "outputs": [],
   "source": [
    "data_stock_1 = data_stock_1.dropna(subset=['Return'])\n",
    "data_stock_2 = data_stock_2.dropna(subset=['Return'])"
   ]
  },
  {
   "cell_type": "markdown",
   "id": "83882575-df11-46c1-9cb6-e81deb3d5e61",
   "metadata": {},
   "source": [
    "### Define the exponential decay function"
   ]
  },
  {
   "cell_type": "code",
   "execution_count": 7,
   "id": "97370fa1-b590-4ae5-b3ab-db9e216f1b31",
   "metadata": {},
   "outputs": [],
   "source": [
    "def exp_decay(t, b):\n",
    "    return np.exp(-b * t)"
   ]
  },
  {
   "cell_type": "markdown",
   "id": "eef1ebb0-eeed-4be1-a37d-319d42db4eaf",
   "metadata": {},
   "source": [
    "### Calculate a_k for stock 1"
   ]
  },
  {
   "cell_type": "code",
   "execution_count": 8,
   "id": "60df7fc3-73ca-4dc8-aaab-0302db9c2b5b",
   "metadata": {},
   "outputs": [],
   "source": [
    "a_k_stock_1 = data_stock_1['Return'].std()"
   ]
  },
  {
   "cell_type": "markdown",
   "id": "a8c2481e-abfb-4f2a-a128-7ab0e0e80504",
   "metadata": {},
   "source": [
    "### Calculate rolling standard deviation (volatility) with a window size of 10 days"
   ]
  },
  {
   "cell_type": "code",
   "execution_count": 9,
   "id": "a899d195-da4b-4271-9b14-0188f96f4b5a",
   "metadata": {},
   "outputs": [],
   "source": [
    "rolling_volatility_stock_1 = data_stock_1['Return'].rolling(window=10).std().dropna()\n",
    "time_points_stock_1 = np.arange(len(rolling_volatility_stock_1))"
   ]
  },
  {
   "cell_type": "markdown",
   "id": "c797870f-9bf1-462c-8a64-a3fc7cf8b778",
   "metadata": {},
   "source": [
    "### Fit the exponential decay model to the rolling volatility"
   ]
  },
  {
   "cell_type": "code",
   "execution_count": 10,
   "id": "b77df6ae-8abc-4318-ae76-20700abcdf2a",
   "metadata": {},
   "outputs": [],
   "source": [
    "popt_stock_1, _ = curve_fit(exp_decay, time_points_stock_1, rolling_volatility_stock_1)\n",
    "b_stock_1 = popt_stock_1[0]"
   ]
  },
  {
   "cell_type": "code",
   "execution_count": 11,
   "id": "298b3618-faaa-4d4d-93aa-1864722ed73d",
   "metadata": {},
   "outputs": [
    {
     "name": "stdout",
     "output_type": "stream",
     "text": [
      "Estimated a_k for Microsoft: 0.0158243429888072\n",
      "Estimated b for Microsoft: 3.991908672548363\n"
     ]
    }
   ],
   "source": [
    "print(f\"Estimated a_k for {stock_name_1}: {a_k_stock_1}\")\n",
    "print(f\"Estimated b for {stock_name_1}: {b_stock_1}\")"
   ]
  },
  {
   "cell_type": "markdown",
   "id": "417020a2-0c38-4458-82df-4441f77c5be8",
   "metadata": {},
   "source": [
    "### Calculate a_k for stock 2"
   ]
  },
  {
   "cell_type": "code",
   "execution_count": 12,
   "id": "913527df-cdff-4c26-ad88-b1592faf021c",
   "metadata": {},
   "outputs": [],
   "source": [
    "a_k_stock_2 = data_stock_2['Return'].std()"
   ]
  },
  {
   "cell_type": "markdown",
   "id": "c1d26cee-3c17-441d-856a-5ebe13c9eeca",
   "metadata": {},
   "source": [
    "### Calculate rolling standard deviation (volatility) with a window size of 10 days"
   ]
  },
  {
   "cell_type": "code",
   "execution_count": 13,
   "id": "19dc0d8b-b402-4c69-9872-f6d865d743dd",
   "metadata": {},
   "outputs": [],
   "source": [
    "rolling_volatility_stock_2 = data_stock_2['Return'].rolling(window=10).std().dropna()\n",
    "time_points_stock_2 = np.arange(len(rolling_volatility_stock_2))"
   ]
  },
  {
   "cell_type": "markdown",
   "id": "e2b03bb5-1625-48d6-96aa-c86b1e8f31c8",
   "metadata": {},
   "source": [
    "### Fit the exponential decay model to the rolling volatility"
   ]
  },
  {
   "cell_type": "code",
   "execution_count": 14,
   "id": "b021e35c-4ac7-4bea-920c-6881cfc569f9",
   "metadata": {},
   "outputs": [],
   "source": [
    "popt_stock_2, _ = curve_fit(exp_decay, time_points_stock_2, rolling_volatility_stock_2)\n",
    "b_stock_2 = popt_stock_2[0]"
   ]
  },
  {
   "cell_type": "code",
   "execution_count": 15,
   "id": "acccab00-fe08-4026-8b61-49343996a719",
   "metadata": {},
   "outputs": [
    {
     "name": "stdout",
     "output_type": "stream",
     "text": [
      "Estimated a_k for NovoCurve: 0.06672624944745678\n",
      "Estimated b for NovoCurve: 1.415778470165602\n"
     ]
    }
   ],
   "source": [
    "print(f\"Estimated a_k for {stock_name_2}: {a_k_stock_2}\")\n",
    "print(f\"Estimated b for {stock_name_2}: {b_stock_2}\")"
   ]
  },
  {
   "cell_type": "markdown",
   "id": "f82c29f7-f9bc-49ff-acc0-0bb2a3f7deeb",
   "metadata": {},
   "source": [
    "### Define the utility function"
   ]
  },
  {
   "cell_type": "code",
   "execution_count": 16,
   "id": "81b3672d-0a01-4e1a-979a-b25a744e7ed1",
   "metadata": {},
   "outputs": [],
   "source": [
    "def utility_function(t, a_k, b):\n",
    "    return 1 - a_k * np.exp(-b * t)"
   ]
  },
  {
   "cell_type": "markdown",
   "id": "b6bbdbbe-e8e5-4cc6-bc71-cf013ede3c89",
   "metadata": {},
   "source": [
    "### Assuming we have N days in the dataset"
   ]
  },
  {
   "cell_type": "code",
   "execution_count": 17,
   "id": "cd575d61-f02f-4c8d-862f-2dd5d174036f",
   "metadata": {},
   "outputs": [],
   "source": [
    "time_points_full_stock_1 = np.arange(len(data_stock_1))\n",
    "time_points_full_stock_2 = np.arange(len(data_stock_2))"
   ]
  },
  {
   "cell_type": "markdown",
   "id": "73d8fbb6-2a9e-4ac6-a832-85539626784e",
   "metadata": {},
   "source": [
    "### Calculate utility values for each dataset"
   ]
  },
  {
   "cell_type": "code",
   "execution_count": 18,
   "id": "fddaf133-5099-42b4-b86c-5b9d9da61e5b",
   "metadata": {},
   "outputs": [],
   "source": [
    "utilities_stock_1 = utility_function(time_points_full_stock_1, a_k_stock_1, b_stock_1)\n",
    "utilities_stock_2 = utility_function(time_points_full_stock_2, a_k_stock_2, b_stock_2)"
   ]
  },
  {
   "cell_type": "markdown",
   "id": "05eb0c13-afc5-4cca-9c79-271c0091c005",
   "metadata": {},
   "source": [
    "### Add utility values to the DataFrames for further analysis"
   ]
  },
  {
   "cell_type": "code",
   "execution_count": 19,
   "id": "042eeff0-c08c-4e22-adc8-ca9efc20e541",
   "metadata": {},
   "outputs": [],
   "source": [
    "data_stock_1['Utility'] = utilities_stock_1\n",
    "data_stock_2['Utility'] = utilities_stock_2"
   ]
  },
  {
   "cell_type": "markdown",
   "id": "63b0c9fe-cceb-49bc-ac52-53a5b6916e39",
   "metadata": {},
   "source": [
    "### Display the first few rows to confirm the utility calculation"
   ]
  },
  {
   "cell_type": "code",
   "execution_count": 20,
   "id": "c2e0d29e-4780-40e0-9d36-e537423b1d60",
   "metadata": {},
   "outputs": [
    {
     "name": "stdout",
     "output_type": "stream",
     "text": [
      "        Date        Open        High         Low       Close   Adj Close  \\\n",
      "1 2023-01-04  232.279999  232.869995  225.960007  229.100006  225.852112   \n",
      "2 2023-01-05  227.199997  227.550003  221.759995  222.309998  219.158356   \n",
      "3 2023-01-06  223.000000  225.759995  219.350006  224.929993  221.741211   \n",
      "4 2023-01-09  226.449997  231.240005  226.410004  227.119995  223.900162   \n",
      "5 2023-01-10  227.759995  231.309998  227.330002  228.850006  225.605652   \n",
      "\n",
      "     Volume    Return   Utility  \n",
      "1  50623400 -0.043743  0.984176  \n",
      "2  39585600 -0.029638  0.999708  \n",
      "3  43613600  0.011785  0.999995  \n",
      "4  27369800  0.009736  1.000000  \n",
      "5  27033900  0.007617  1.000000  \n",
      "        Date        Open        High         Low       Close   Adj Close  \\\n",
      "1 2023-01-04   68.669998   70.699997   68.470001   70.529999   70.529999   \n",
      "2 2023-01-05  108.160004  120.029999   94.360001  118.809998  118.809998   \n",
      "3 2023-01-06  114.154999  116.220001  108.002998  109.040001  109.040001   \n",
      "4 2023-01-09  102.660004  103.690002   90.529999   91.250000   91.250000   \n",
      "5 2023-01-10   91.500000   94.029999   86.400002   93.029999   93.029999   \n",
      "\n",
      "     Volume    Return   Utility  \n",
      "1    780100  0.038122  0.933274  \n",
      "2  11926800  0.684531  0.983803  \n",
      "3   3001800 -0.082232  0.996068  \n",
      "4   3487300 -0.163151  0.999046  \n",
      "5   2133100  0.019507  0.999768  \n"
     ]
    }
   ],
   "source": [
    "print(data_stock_1.head())\n",
    "print(data_stock_2.head())"
   ]
  },
  {
   "cell_type": "markdown",
   "id": "2db613b3-efdd-4e11-9c71-aff60bc3042c",
   "metadata": {},
   "source": [
    "### Perform Monte Carlo simulations"
   ]
  },
  {
   "cell_type": "code",
   "execution_count": 21,
   "id": "f121b9b2-3c43-4bbe-8995-a2c8ea14a5cf",
   "metadata": {},
   "outputs": [],
   "source": [
    "# Number of simulations\n",
    "n_simulations = 1000\n",
    "prefer_b_count = 0\n",
    "\n",
    "for _ in range(n_simulations):\n",
    "    sample_stock_1 = np.random.choice(data_stock_1['Utility'], size=len(data_stock_1), replace=True)\n",
    "    sample_stock_2 = np.random.choice(data_stock_2['Utility'], size=len(data_stock_2), replace=True)\n",
    "    \n",
    "    mean_u_stock_1 = np.mean(sample_stock_1)\n",
    "    mean_u_stock_2 = np.mean(sample_stock_2)\n",
    "    \n",
    "    if mean_u_stock_2 >= mean_u_stock_1:\n",
    "        prefer_b_count += 1"
   ]
  },
  {
   "cell_type": "markdown",
   "id": "305e8c1c-2d4c-440b-8aba-81075437e989",
   "metadata": {},
   "source": [
    "### Calculate the probability"
   ]
  },
  {
   "cell_type": "code",
   "execution_count": 22,
   "id": "9d4665a5-0293-4f81-8a92-5bfa0316045b",
   "metadata": {},
   "outputs": [],
   "source": [
    "probability_b_preferred = prefer_b_count / n_simulations"
   ]
  },
  {
   "cell_type": "markdown",
   "id": "d2c0bc39-e3c9-4306-92ca-bde4bb0739b1",
   "metadata": {},
   "source": [
    "### Categorize the preference"
   ]
  },
  {
   "cell_type": "code",
   "execution_count": 23,
   "id": "504cb629-5b27-469c-917e-74dd9521d8f1",
   "metadata": {},
   "outputs": [],
   "source": [
    "def categorize_preference(prob, stock_name_1, stock_name_2):\n",
    "    if prob >= 0.80:\n",
    "        return f\"Strong Preference for {stock_name_2}\"\n",
    "    elif 0.60 <= prob < 0.80:\n",
    "        return f\"Preference for {stock_name_2}\"\n",
    "    elif 0.40 <= prob < 0.60:\n",
    "        return \"Indifference\"\n",
    "    elif 0.20 <= prob < 0.40:\n",
    "        return f\"Preference for {stock_name_1}\"\n",
    "    else:\n",
    "        return f\"Strong Preference for {stock_name_1}\""
   ]
  },
  {
   "cell_type": "markdown",
   "id": "4c5ddb22-1577-4a6e-9d56-1a31ee1b5385",
   "metadata": {},
   "source": [
    "### Get the preference category"
   ]
  },
  {
   "cell_type": "code",
   "execution_count": 24,
   "id": "3b41265c-4937-4216-8c18-6657cc054e72",
   "metadata": {},
   "outputs": [
    {
     "name": "stdout",
     "output_type": "stream",
     "text": [
      "Probability NovoCurve is preferred over Microsoft: 14.20%\n",
      "Preference Category: Strong Preference for Microsoft\n"
     ]
    }
   ],
   "source": [
    "category = categorize_preference(probability_b_preferred, stock_name_1, stock_name_2)\n",
    "\n",
    "print(f\"Probability {stock_name_2} is preferred over {stock_name_1}: {probability_b_preferred * 100:.2f}%\")\n",
    "print(f\"Preference Category: {category}\")"
   ]
  },
  {
   "cell_type": "markdown",
   "id": "0fd0fd85-bb13-4751-8a3f-d608ed6fa0c1",
   "metadata": {},
   "source": [
    "### Adjust time points to match the rolling volatility length"
   ]
  },
  {
   "cell_type": "code",
   "execution_count": 25,
   "id": "2ce73274-e497-4b3e-b26f-0fedd4f4b9ac",
   "metadata": {},
   "outputs": [],
   "source": [
    "time_points_stock_1 = np.arange(len(rolling_volatility_stock_1))\n",
    "time_points_stock_2 = np.arange(len(rolling_volatility_stock_2))"
   ]
  },
  {
   "cell_type": "markdown",
   "id": "129241f0-bbc7-4710-a457-b4229e164438",
   "metadata": {},
   "source": [
    "### Truncate the utility arrays to match the length of the time points"
   ]
  },
  {
   "cell_type": "code",
   "execution_count": 26,
   "id": "5d92bb81-4062-4b24-a02f-d3044a042889",
   "metadata": {},
   "outputs": [],
   "source": [
    "utilities_stock_1 = utilities_stock_1[:len(time_points_stock_1)]\n",
    "utilities_stock_2 = utilities_stock_2[:len(time_points_stock_2)]"
   ]
  },
  {
   "cell_type": "markdown",
   "id": "32e91c68-0fba-47b9-85c8-059c44ac137e",
   "metadata": {},
   "source": [
    "### Visualization"
   ]
  },
  {
   "cell_type": "code",
   "execution_count": 27,
   "id": "afad3d79-28c6-44e3-8dfc-1aa13f2f8807",
   "metadata": {},
   "outputs": [
    {
     "data": {
      "image/png": "[encoded data removed]",
      "text/plain": [
       "<Figure size 800x800 with 1 Axes>"
      ]
     },
     "metadata": {},
     "output_type": "display_data"
    }
   ],
   "source": [
    "fig, ax = plt.subplots(figsize=(8, 8))\n",
    "\n",
    "# Summary Pie Chart\n",
    "labels = [f'{stock_name_1} Preferred', f'{stock_name_2} Preferred']\n",
    "sizes = [n_simulations - prefer_b_count, prefer_b_count]\n",
    "colors = ['lightblue', 'lightgreen']\n",
    "explode = (0.1, 0)  # explode first slice\n",
    "ax.pie(sizes, explode=explode, labels=labels, colors=colors, autopct='%1.1f%%', shadow=True, startangle=140)\n",
    "ax.set_title('Preference Summary')\n",
    "\n",
    "# Add probability and preference category text\n",
    "probability_text = f\"Probability {stock_name_2} is preferred over {stock_name_1}: {probability_b_preferred * 100:.2f}%\"\n",
    "category_text = f\"Preference Category: {category}\"\n",
    "plt.gcf().text(0.5, 0.05, probability_text, ha='center', fontsize=12)\n",
    "plt.gcf().text(0.5, 0.01, category_text, ha='center', fontsize=12)\n",
    "\n",
    "plt.show()"
   ]
  },
  {
   "cell_type": "code",
   "execution_count": null,
   "id": "34c08390-a610-47db-b072-dec8ee2fb485",
   "metadata": {},
   "outputs": [],
   "source": []
  },
  {
   "cell_type": "markdown",
   "id": "9a8dde03-67f4-4e08-bc51-3f8f28572288",
   "metadata": {},
   "source": [
    "### Volatility measures the variability of stock returns. It is calculated as the standard deviation of daily returns. High volatility indicates higher risk and potential for larger price swings.\n",
    "\n",
    "### Rolling Volatility: Volatility measures the variability of stock returns. It is calculated as the standard deviation of daily returns. High volatility indicates higher risk and potential for larger price swings\n",
    "\n",
    "### Exponential Decay: An exponential decay function is used to model the decrease in volatility over time. The parameter b represents the rate of decay.\n",
    "\n",
    "### Curve Fitting:Curve fitting helps in estimating the parameters of the exponential decay model by fitting it to the rolling volatility data.\n",
    "\n",
    "### Utility Function:The utility function quantifies the desirability of an investment, taking into account volatility and its decay over time.\n",
    "\n",
    "### Monte Carlo Simulations:Monte Carlo simulations model uncertainties by generating a large number of random samples. They help estimate the probability of one stock being preferred over another by evaluating the distribution of utility values."
   ]
  },
  {
   "cell_type": "code",
   "execution_count": null,
   "id": "c50a2047-7780-4000-ba5f-85655fc12e21",
   "metadata": {},
   "outputs": [],
   "source": []
  }
 ],
 "metadata": {
  "kernelspec": {
   "display_name": "Python 3 (ipykernel)",
   "language": "python",
   "name": "python3"
  },
  "language_info": {
   "codemirror_mode": {
    "name": "ipython",
    "version": 3
   },
   "file_extension": ".py",
   "mimetype": "text/x-python",
   "name": "python",
   "nbconvert_exporter": "python",
   "pygments_lexer": "ipython3",
   "version": "3.10.11"
  }
 },
 "nbformat": 4,
 "nbformat_minor": 5
}
