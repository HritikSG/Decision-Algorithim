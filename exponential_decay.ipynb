{
 "cells": [
  {
   "cell_type": "markdown",
   "id": "91e531a6-e6c8-4e4d-af10-0640e6b9f5a5",
   "metadata": {},
   "source": [
    "### Load the Dataset"
   ]
  },
  {
   "cell_type": "code",
   "execution_count": 1,
   "id": "9ba35622-01ec-469e-a432-962e690a1f53",
   "metadata": {},
   "outputs": [],
   "source": [
    "import pandas as pd\n",
    "# Load datasets\n",
    "Am_data = pd.read_csv('Google.csv')\n",
    "Bm_data = pd.read_csv('Netflix.csv')"
   ]
  },
  {
   "cell_type": "markdown",
   "id": "754fd883-d8f4-4c80-ac1e-3deab3778ab2",
   "metadata": {},
   "source": [
    "### Calculate the Utility Using the Given Function"
   ]
  },
  {
   "cell_type": "code",
   "execution_count": 2,
   "id": "f178837e-82f2-4cf0-bb97-1309bc4b7aa4",
   "metadata": {},
   "outputs": [],
   "source": [
    "import numpy as np\n",
    "\n",
    "# Assume 'Close' prices as t for utility function\n",
    "t_am = Am_data['Close']\n",
    "t_bm = Bm_data['Close']\n",
    "\n",
    "# Calculate parameters for utility function\n",
    "a_am = np.mean(t_am)\n",
    "b_am = 1 / np.std(t_am)\n",
    "\n",
    "a_bm = np.mean(t_bm)\n",
    "b_bm = 1 / np.std(t_bm)\n",
    "\n",
    "# Calculate utilities\n",
    "U_am = 1 - a_am * np.exp(-b_am * t_am)\n",
    "U_bm = 1 - a_bm * np.exp(-b_bm * t_bm)"
   ]
  },
  {
   "cell_type": "markdown",
   "id": "3e689c37-d336-4504-8ae6-79b843bc1f98",
   "metadata": {},
   "source": [
    "### Calculate the Expected Utility"
   ]
  },
  {
   "cell_type": "code",
   "execution_count": 3,
   "id": "803fa41f-d987-42b5-bfeb-61e67f3f1f69",
   "metadata": {},
   "outputs": [],
   "source": [
    "E_u_am = np.mean(U_am)\n",
    "E_u_bm = np.mean(U_bm)"
   ]
  },
  {
   "cell_type": "markdown",
   "id": "c4b8e6c8-9ef2-4aeb-9186-c6c1b93b9913",
   "metadata": {},
   "source": [
    "### Compare Utilities and Compute Preferences"
   ]
  },
  {
   "cell_type": "code",
   "execution_count": 4,
   "id": "9b200e9b-a270-4d56-bec1-2252fc84ce68",
   "metadata": {},
   "outputs": [
    {
     "name": "stdout",
     "output_type": "stream",
     "text": [
      "Highest Preference: Indifference, Score: 0.53\n"
     ]
    }
   ],
   "source": [
    "from scipy.stats import norm\n",
    "\n",
    "# Calculate differences between utilities\n",
    "diffs = U_bm - U_am\n",
    "\n",
    "# Calculate probability density function\n",
    "probs = norm.cdf(diffs)\n",
    "\n",
    "# Determine preferences\n",
    "strong_preference_b = np.mean(probs >= 0.8)\n",
    "preference_b = np.mean((probs >= 0.6) & (probs < 0.8))\n",
    "indifference = np.mean((probs >= 0.4) & (probs < 0.6))\n",
    "preference_a = np.mean((probs >= 0.2) & (probs < 0.4))\n",
    "strong_preference_a = np.mean(probs < 0.2)\n",
    "\n",
    "preferences = {\n",
    "    \"Strong Preference for B\": strong_preference_b,\n",
    "    \"Preference for B\": preference_b,\n",
    "    \"Indifference\": indifference,\n",
    "    \"Preference for A\": preference_a,\n",
    "    \"Strong Preference for A\": strong_preference_a\n",
    "}\n",
    "\n",
    "# Find the highest preference and its score\n",
    "highest_score = max(preferences.values())\n",
    "highest_preference = [pref for pref, score in preferences.items() if score == highest_score][0]\n",
    "\n",
    "# Verify and adjust the categorization of the highest preference based on the score\n",
    "\n",
    "if highest_score >= 0.8:\n",
    "    highest_preference = \"Strong Preference for B\"\n",
    "elif 0.6 <= highest_score < 0.8:\n",
    "    highest_preference = \"Preference for B\"\n",
    "elif 0.4 <= highest_score < 0.6:\n",
    "    highest_preference = \"Indifference\"\n",
    "elif 0.2 <= highest_score < 0.4:\n",
    "    highest_preference = \"Preference for A\"\n",
    "else:\n",
    "    highest_preference = \"Strong Preference for A\"\n",
    "\n",
    "print(f'Highest Preference: {highest_preference}, Score: {highest_score:.2f}')"
   ]
  },
  {
   "cell_type": "markdown",
   "id": "ce69f713-186a-44f3-8b75-dc5c3eb47ece",
   "metadata": {},
   "source": [
    "### Testing with Other Datasets"
   ]
  },
  {
   "cell_type": "code",
   "execution_count": 5,
   "id": "62f5ae80-0f60-4bf0-a7f9-13900417258d",
   "metadata": {},
   "outputs": [],
   "source": [
    "import pandas as pd\n",
    "# Load datasets\n",
    "apple_data = pd.read_csv('Apple.csv')\n",
    "microsoft_data = pd.read_csv('Google.csv')"
   ]
  },
  {
   "cell_type": "code",
   "execution_count": 6,
   "id": "8812a37e-3e31-4a0b-93c6-e98c88f6bdbb",
   "metadata": {},
   "outputs": [],
   "source": [
    "import numpy as np\n",
    "\n",
    "# Assume 'Close' prices as t for utility function\n",
    "t_am = apple_data['Close']\n",
    "t_bm = microsoft_data['Close']\n",
    "\n",
    "# Calculate parameters for utility function\n",
    "a_am = np.mean(t_am)\n",
    "b_am = 1 / np.std(t_am)\n",
    "\n",
    "a_bm = np.mean(t_bm)\n",
    "b_bm = 1 / np.std(t_bm)"
   ]
  },
  {
   "cell_type": "code",
   "execution_count": 7,
   "id": "04deccc3-a8e1-4a03-8beb-fb88c8074bd4",
   "metadata": {},
   "outputs": [],
   "source": [
    "# Calculate utilities\n",
    "U_am = 1 - a_am * np.exp(-b_am * t_am)\n",
    "U_bm = 1 - a_bm * np.exp(-b_bm * t_bm)\n",
    "E_u_am = np.mean(U_am)\n",
    "E_u_bm = np.mean(U_bm)"
   ]
  },
  {
   "cell_type": "code",
   "execution_count": 8,
   "id": "a8bf782a-8d94-46a6-8612-e8a5098d96b8",
   "metadata": {},
   "outputs": [],
   "source": [
    "from scipy.stats import norm\n",
    "\n",
    "# Calculate differences between utilities\n",
    "diffs = U_bm - U_am\n",
    "\n",
    "# Calculate probability density function\n",
    "probs = norm.cdf(diffs)"
   ]
  },
  {
   "cell_type": "code",
   "execution_count": 9,
   "id": "f5603302-bf48-4f88-8f53-349d8c704d9b",
   "metadata": {},
   "outputs": [],
   "source": [
    "# # Determine preferences\n",
    "# strong_preference_b = np.mean(probs >= 0.8)\n",
    "# preference_b = np.mean((probs >= 0.6) & (probs < 0.8))\n",
    "# indifference = np.mean((probs >= 0.4) & (probs < 0.6))\n",
    "# preference_a = np.mean((probs >= 0.2) & (probs < 0.4))\n",
    "# strong_preference_a = np.mean(probs < 0.2)\n",
    "\n",
    "# Determine preferences directly by comparing utilities\n",
    "strong_preference_b = np.mean(diffs > 0.2)\n",
    "preference_b = np.mean((diffs > 0.1) & (diffs <= 0.2))\n",
    "indifference = np.mean((diffs > -0.1) & (diffs <= 0.1))\n",
    "preference_a = np.mean((diffs > -0.2) & (diffs <= -0.1))\n",
    "strong_preference_a = np.mean(diffs <= -0.2)"
   ]
  },
  {
   "cell_type": "code",
   "execution_count": 10,
   "id": "70723d1f-d18b-4c5c-9953-3f1a7e480262",
   "metadata": {},
   "outputs": [],
   "source": [
    "# preferences = {\n",
    "#     \"Strong Preference for B\": strong_preference_b,\n",
    "#     \"Preference for B\": preference_b,\n",
    "#     \"Indifference\": indifference,\n",
    "#     \"Preference for A\": preference_a,\n",
    "#     \"Strong Preference for A\": strong_preference_a\n",
    "# }\n",
    "\n",
    "# # Find the highest preference and its score\n",
    "# highest_score = max(preferences.values())\n",
    "# highest_preference = [pref for pref, score in preferences.items() if score == highest_score][0]\n",
    "\n",
    "preferences = {\n",
    "    \"Strong Preference for B\": strong_preference_b,\n",
    "    \"Preference for B\": preference_b,\n",
    "    \"Indifference\": indifference,\n",
    "    \"Preference for A\": preference_a,\n",
    "    \"Strong Preference for A\": strong_preference_a\n",
    "}\n",
    "\n",
    "# Find the highest preference and its score\n",
    "highest_score = max(preferences.values())\n",
    "highest_preference = [pref for pref, score in preferences.items() if score == highest_score][0]"
   ]
  },
  {
   "cell_type": "code",
   "execution_count": 11,
   "id": "71b9a852-c8b2-4be5-afaa-f9407f2baf5f",
   "metadata": {},
   "outputs": [
    {
     "name": "stdout",
     "output_type": "stream",
     "text": [
      "Highest Preference: Preference for B, Score: 0.64\n"
     ]
    }
   ],
   "source": [
    "# Adjust the categorization of the highest preference based on the score\n",
    "if highest_score >= 0.8:\n",
    "    highest_preference = \"Strong Preference for B\"\n",
    "elif 0.6 <= highest_score < 0.8:\n",
    "    highest_preference = \"Preference for B\"\n",
    "elif 0.4 <= highest_score < 0.6:\n",
    "    highest_preference = \"Indifference\"\n",
    "elif 0.2 <= highest_score < 0.4:\n",
    "    highest_preference = \"Preference for A\"\n",
    "else:\n",
    "    highest_preference = \"Strong Preference for A\"\n",
    "\n",
    "print(f'Highest Preference: {highest_preference}, Score: {highest_score:.2f}')"
   ]
  },
  {
   "cell_type": "code",
   "execution_count": null,
   "id": "7a188fb1-f3a9-40fc-8763-c51a44a11b33",
   "metadata": {},
   "outputs": [],
   "source": []
  }
 ],
 "metadata": {
  "kernelspec": {
   "display_name": "Python 3 (ipykernel)",
   "language": "python",
   "name": "python3"
  },
  "language_info": {
   "codemirror_mode": {
    "name": "ipython",
    "version": 3
   },
   "file_extension": ".py",
   "mimetype": "text/x-python",
   "name": "python",
   "nbconvert_exporter": "python",
   "pygments_lexer": "ipython3",
   "version": "3.10.11"
  }
 },
 "nbformat": 4,
 "nbformat_minor": 5
}
